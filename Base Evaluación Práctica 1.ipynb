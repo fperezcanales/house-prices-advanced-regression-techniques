{
  "nbformat": 4,
  "nbformat_minor": 0,
  "metadata": {
    "colab": {
      "provenance": []
    },
    "kernelspec": {
      "name": "python3",
      "display_name": "Python 3"
    },
    "language_info": {
      "name": "python"
    }
  },
  "cells": [
    {
      "cell_type": "markdown",
      "source": [
        "# Evaluación Práctica 1\n",
        "> **Fecha de entrega:** Viernes 13 de junio de 2025, 22:00\n",
        ">\n",
        "> **Nombre estudiante 1:** COMPLETAR\n",
        ">\n",
        "> **Nombre estudiante 2:** (Puede borrar esta línea si se trabajó de forma individual)\n",
        "\n",
        "---\n",
        "\n",
        "## Instrucciones Importantes\n",
        "- Complete todas las secciones marcadas con `# TODO`\n",
        "- No borre las salidas de las celdas una vez ejecutadas\n",
        "- Este notebook debe ejecutarse de inicio a fin sin errores\n",
        "- Incluya comentarios explicativos en su código\n",
        "- Justifique todas sus decisiones analíticas"
      ],
      "metadata": {
        "id": "Xyjj-wU9OZ30"
      }
    },
    {
      "cell_type": "markdown",
      "source": [
        "## Instalación de Dependencias\n",
        "**Ejecute esta celda primero para instalar todas las librerías necesarias**"
      ],
      "metadata": {
        "id": "YTJOQiu1OvM1"
      }
    },
    {
      "cell_type": "code",
      "source": [
        "# Instalación de dependencias\n",
        "!pip install pandas numpy matplotlib seaborn scikit-learn\n",
        "\n",
        "# Opcional: Puede agregar más dependencias, por ejemplo\n",
        "# !pip install plotly  # Para gráficos interactivos\n",
        "# !pip install kaggle  # Si usa la API de Kaggle"
      ],
      "metadata": {
        "id": "2_pjGt1nOwST"
      },
      "execution_count": null,
      "outputs": []
    },
    {
      "cell_type": "markdown",
      "source": [
        "## Importación de Librerías"
      ],
      "metadata": {
        "id": "DsKzCOK8O3NB"
      }
    },
    {
      "cell_type": "code",
      "source": [
        "# Importar librerías adicionales aqui"
      ],
      "metadata": {
        "id": "gZXn18SRLZSC"
      },
      "execution_count": null,
      "outputs": []
    },
    {
      "cell_type": "code",
      "source": [
        "import random\n",
        "import numpy as np\n",
        "\n",
        "# Para reproducibilidad\n",
        "RNG_SEED = 0\n",
        "\n",
        "random.seed(RNG_SEED)\n",
        "np.random.seed(RNG_SEED)"
      ],
      "metadata": {
        "id": "xDq24ZD-LTky"
      },
      "execution_count": null,
      "outputs": []
    },
    {
      "cell_type": "markdown",
      "source": [
        "---\n",
        "# Fase 1: Preparación y Exploración de Datos (3 pts.)"
      ],
      "metadata": {
        "id": "lPi3RXE0QEsj"
      }
    },
    {
      "cell_type": "markdown",
      "source": [
        "## Pregunta 1: Selección y descarga de dataset [1 pts.]\n",
        "\n",
        "**Requisitos del dataset:**\n",
        "- Al menos 10 columnas (incluyendo la variable objetivo)\n",
        "- Al menos 100 filas\n",
        "- Columnas numéricas y categóricas\n",
        "- Una columna que pueda ser usada como variable objetivo"
      ],
      "metadata": {
        "id": "H31FsX1bMWXK"
      }
    },
    {
      "cell_type": "markdown",
      "source": [
        "### 1.1 Descripción del Dataset Elegido\n",
        "\n",
        "**TODO: Complete la información de su dataset**\n",
        "\n",
        "- **Nombre del dataset:** [Nombre completo]\n",
        "- **Fuente:** [URL del dataset en Kaggle u otra plataforma]\n",
        "- **Descripción:** [Breve descripción de qué contiene el dataset]\n",
        "- **Tarea de predicción:** [Describa qué va a predecir y por qué es relevante]\n",
        "- **Tipo de problema:** [Clasificación/Regresión]\n"
      ],
      "metadata": {
        "id": "YPATLpv3MYnQ"
      }
    },
    {
      "cell_type": "markdown",
      "source": [
        "### 1.2 Descarga Programática del Dataset"
      ],
      "metadata": {
        "id": "eFOqJ5NjPRQy"
      }
    },
    {
      "cell_type": "code",
      "source": [
        "# Completar"
      ],
      "metadata": {
        "id": "ylZS6jk9PXUW"
      },
      "execution_count": null,
      "outputs": []
    },
    {
      "cell_type": "markdown",
      "source": [
        "### 1.3 Carga del Dataset"
      ],
      "metadata": {
        "id": "Evc9Zi6OPbD_"
      }
    },
    {
      "cell_type": "code",
      "execution_count": null,
      "metadata": {
        "id": "biActRglMQeL"
      },
      "outputs": [],
      "source": [
        "# Completar"
      ]
    },
    {
      "cell_type": "markdown",
      "source": [
        "## Pregunta 2: Análisis de columnas [1.5 pts.]\n",
        "\n",
        "**Requisitos:**\n",
        "- Listar cada columna con su tipo de dato\n",
        "- Describir qué representa cada columna\n",
        "- Incluir al menos 3 gráficos con análisis no trivial\n",
        "- Describir conclusiones de cada gráfico"
      ],
      "metadata": {
        "id": "eoOg_QZrMcDe"
      }
    },
    {
      "cell_type": "markdown",
      "source": [
        "Respuesta"
      ],
      "metadata": {
        "id": "6Ktm121sQv9G"
      }
    },
    {
      "cell_type": "code",
      "source": [
        "# Completar"
      ],
      "metadata": {
        "id": "JtCxuoXIP4RD"
      },
      "execution_count": null,
      "outputs": []
    },
    {
      "cell_type": "markdown",
      "source": [
        "## Pregunta 3: Tratamiento de valores nulos [0.5 pts.]\n",
        "\n",
        "**Nota:** Si su dataset no tiene valores nulos, esta pregunta no tendrá puntaje asignado."
      ],
      "metadata": {
        "id": "afECHr09Mfog"
      }
    },
    {
      "cell_type": "markdown",
      "source": [
        "Respuesta"
      ],
      "metadata": {
        "id": "pvumv4faMtmQ"
      }
    },
    {
      "cell_type": "code",
      "source": [
        "# Completar"
      ],
      "metadata": {
        "id": "2S_tchHLP8WZ"
      },
      "execution_count": null,
      "outputs": []
    },
    {
      "cell_type": "markdown",
      "source": [
        "---\n",
        "# Fase 2: Ingeniería de Features (1.5 pts.)"
      ],
      "metadata": {
        "id": "w8BJvNfwQKBc"
      }
    },
    {
      "cell_type": "markdown",
      "source": [
        "## Pregunta 4: Selección de columnas [0.5 pts]"
      ],
      "metadata": {
        "id": "oYdkWHosMgoK"
      }
    },
    {
      "cell_type": "markdown",
      "source": [
        "Respuesta"
      ],
      "metadata": {
        "id": "HnW8sHyxQNVV"
      }
    },
    {
      "cell_type": "code",
      "execution_count": null,
      "metadata": {
        "id": "EJM94aGmMt3O"
      },
      "outputs": [],
      "source": [
        "# Completar"
      ]
    },
    {
      "cell_type": "markdown",
      "source": [
        "## Pregunta 5: Análisis por visualización de datos [1.0 pts.]\n",
        "\n",
        "**Técnicas disponibles:** PCA, t-SNE, UMAP"
      ],
      "metadata": {
        "id": "nHuRZBLiMh2_"
      }
    },
    {
      "cell_type": "markdown",
      "source": [
        "Respuesta"
      ],
      "metadata": {
        "id": "aa5QCSvMQo_1"
      }
    },
    {
      "cell_type": "code",
      "source": [
        "# Completar"
      ],
      "metadata": {
        "id": "mHj9Mi97Qpx2"
      },
      "execution_count": null,
      "outputs": []
    },
    {
      "cell_type": "markdown",
      "source": [
        "---\n",
        "# Fase 3: Modelado y Evaluación (4 pts.)"
      ],
      "metadata": {
        "id": "QZutaLQKQdhG"
      }
    },
    {
      "cell_type": "markdown",
      "source": [
        "## Pregunta 6: Partición de datos [0.5 pts.]"
      ],
      "metadata": {
        "id": "LomDgPZEMjC6"
      }
    },
    {
      "cell_type": "markdown",
      "source": [
        "Respuesta"
      ],
      "metadata": {
        "id": "YCrVlutEMuaH"
      }
    },
    {
      "cell_type": "code",
      "execution_count": null,
      "metadata": {
        "id": "XlXY3NiZMuaI"
      },
      "outputs": [],
      "source": [
        "# Completar"
      ]
    },
    {
      "cell_type": "markdown",
      "source": [
        "## Pregunta 7: Predicción con modelos de ML [2 pts.]\n",
        "\n",
        "**Modelos disponibles:** KNN, SVM, Árboles de Decisión, Random Forest, Gradient Boosting, MLP"
      ],
      "metadata": {
        "id": "BV7Cr4XzMlhf"
      }
    },
    {
      "cell_type": "markdown",
      "source": [
        "Respuesta"
      ],
      "metadata": {
        "id": "kN4T-2usMuqu"
      }
    },
    {
      "cell_type": "code",
      "execution_count": null,
      "metadata": {
        "id": "qguG8XqyMuqv"
      },
      "outputs": [],
      "source": [
        "# Completar"
      ]
    },
    {
      "cell_type": "markdown",
      "source": [
        "## Pregunta 8: Sobreentrenamiento [1.5 pts.]"
      ],
      "metadata": {
        "id": "Z0DSOMBJMm3L"
      }
    },
    {
      "cell_type": "markdown",
      "source": [
        "Respuesta"
      ],
      "metadata": {
        "id": "_ddrB8etMu_j"
      }
    },
    {
      "cell_type": "code",
      "execution_count": null,
      "metadata": {
        "id": "HIk8CKE3Mu_k"
      },
      "outputs": [],
      "source": [
        "# Completar"
      ]
    }
  ]
}